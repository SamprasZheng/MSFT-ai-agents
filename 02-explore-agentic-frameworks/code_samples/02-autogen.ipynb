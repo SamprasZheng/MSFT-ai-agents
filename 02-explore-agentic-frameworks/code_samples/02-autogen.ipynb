{
 "cells": [
  {
   "cell_type": "markdown",
   "metadata": {},
   "source": [
    "# AutoGen Basic Sample \n",
    "\n",
    "In this code sample, you will use the [AutoGen](https://aka.ms/ai-agents/autogen) AI Framework to create a basic agent. \n",
    "\n",
    "The goal of this sample is to show you the steps that we will later use in the addtional code samples when implementing the different agentic patterns. "
   ]
  },
  {
   "cell_type": "markdown",
   "metadata": {},
   "source": [
    "## Import the Needed Python Packages "
   ]
  },
  {
   "cell_type": "code",
   "execution_count": 1,
   "metadata": {},
   "outputs": [],
   "source": [
    "import os\n",
    "from dotenv import load_dotenv\n",
    "\n",
    "from autogen_agentchat.agents import AssistantAgent\n",
    "from autogen_core.models import UserMessage\n",
    "from autogen_ext.models.azure import AzureAIChatCompletionClient\n",
    "from azure.core.credentials import AzureKeyCredential\n",
    "from autogen_core import CancellationToken\n",
    "\n",
    "from autogen_agentchat.messages import TextMessage\n",
    "from autogen_agentchat.ui import Console\n"
   ]
  },
  {
   "cell_type": "markdown",
   "metadata": {},
   "source": [
    "## Create the Client \n",
    "\n",
    "In this sample, we will use [GitHub Models](https://aka.ms/ai-agents-beginners/github-models) for access to the LLM. \n",
    "\n",
    "The `model` is defined as `gpt-4o-mini`. Try changing the model to another model available on the GitHub Models marketplace to see the different results. \n",
    "\n",
    "As a quick test, we will just run a simple prompt - `What is the capital of France`. "
   ]
  },
  {
   "cell_type": "code",
   "execution_count": 3,
   "metadata": {},
   "outputs": [
    {
     "name": "stdout",
     "output_type": "stream",
     "text": [
      "finish_reason='stop' content='The capital of Taiwan is Taipei.' usage=RequestUsage(prompt_tokens=14, completion_tokens=8) cached=False logprobs=None thought=None\n"
     ]
    }
   ],
   "source": [
    "load_dotenv()\n",
    "client = AzureAIChatCompletionClient(\n",
    "    model=\"gpt-4o-mini\",\n",
    "    endpoint=\"https://models.inference.ai.azure.com\",\n",
    "    # To authenticate with the model you will need to generate a personal access token (PAT) in your GitHub settings.\n",
    "    # Create your PAT token by following instructions here: https://docs.github.com/en/authentication/keeping-your-account-and-data-secure/managing-your-personal-access-tokens\n",
    "    credential=AzureKeyCredential(os.getenv(\"GITHUB_TOKEN\")),\n",
    "    model_info={\n",
    "        \"json_output\": True,\n",
    "        \"function_calling\": True,\n",
    "        \"vision\": True,\n",
    "        \"family\": \"unknown\",\n",
    "    },\n",
    ")\n",
    "\n",
    "result = await client.create([UserMessage(content=\"What is the capital of Taiwan?\", source=\"user\")])\n",
    "print(result)"
   ]
  },
  {
   "cell_type": "code",
   "execution_count": 4,
   "metadata": {},
   "outputs": [
    {
     "name": "stdout",
     "output_type": "stream",
     "text": [
      "finish_reason='stop' content=\"Polkadot is a next-generation blockchain protocol designed to enable different blockchains to interoperate and share information in a secure and scalable manner. Developed by the Web3 Foundation and led by Dr. Gavin Wood, one of the co-founders of Ethereum, Polkadot aims to address many of the limitations seen in earlier blockchain systems.\\n\\n### Key Features of Polkadot:\\n\\n1. **Interoperability**: Unlike traditional blockchains that operate in isolation, Polkadot allows multiple blockchains (called parachains) to communicate and share data. This enables a much broader range of applications and use cases, facilitating a more connected ecosystem of blockchain networks.\\n\\n2. **Scalability**: Polkadot's unique architecture allows it to scale more efficiently by adding additional parachains. This means that as the network grows, it can handle more transactions and can accommodate more specialized blockchains without sacrificing performance.\\n\\n3. **Shared Security**: All parachains connected to the Polkadot Relay Chain benefit from a shared security model. This means they can rely on the security provided by the Relay Chain, which is secured by a decentralized set of validators. This makes it cheaper and easier for new chains to launch securely.\\n\\n4. **Governance**: Polkadot employs an innovative governance model that enables stakeholders to vote on protocol upgrades and network changes. This decentralized governance system helps ensure the protocol can adapt and evolve over time according to the needs of its users.\\n\\n5. **Upgradability**: Polkadot supports on-chain upgrades, which means it can evolve without requiring hard forks. This feature allows developers to implement improvements and address issues in a more streamlined manner.\\n\\n6. **Substrate Framework**: Polkadot is built on the Substrate framework, which makes it easier for developers to create custom blockchains tailored to their specific needs. Substrate provides a set of tools and modules that facilitate the creation of parachains.\\n\\n### Use Cases:\\n\\nPolkadot's versatile infrastructure opens up a wide range of potential applications, including:\\n\\n- DeFi (Decentralized Finance) platforms\\n- NFT (Non-Fungible Token) marketplaces\\n- Decentralized applications that can leverage multiple blockchains\\n- Internet of Things (IoT) solutions\\n- Identity and data privacy protocols\\n\\n### Conclusion:\\n\\nPolkadot represents a significant advancement in blockchain technology, aiming to create a more interconnected and efficient decentralized web. By enabling different blockchains to work together, Polkadot fosters innovation and allows for the development of complex decentralized applications that can harness the strengths of multiple networks. As the ecosystem continues to grow, it holds the potential to reshape how blockchains interact and collaborate in the future.\" usage=RequestUsage(prompt_tokens=13, completion_tokens=540) cached=False logprobs=None thought=None\n"
     ]
    }
   ],
   "source": [
    "result = await client.create([UserMessage(content=\"introduction of polkadot\", source=\"user\")])\n",
    "print(result)"
   ]
  },
  {
   "cell_type": "markdown",
   "metadata": {},
   "source": [
    "## Defining the Agent \n",
    "\n",
    "Now that we have set up the `client` and confirmed that it is working, let us create an `AssistantAgent`. Each agent can be assigned a: \n",
    "**name** - A short hand name that will be useful in referencing it in multi-agent flows. \n",
    "**model_client** - The client that you created in the earlier step. \n",
    "**tools** - Available tools that the Agent can use to complete a task.\n",
    "**system_message** - The metaprompt that defines the task, behavior and tone of the LLM. \n",
    "\n",
    "You can change the system message to see how the LLM responds. We will cover `tools` in Lesson #4. \n"
   ]
  },
  {
   "cell_type": "code",
   "execution_count": 5,
   "metadata": {},
   "outputs": [],
   "source": [
    "agent = AssistantAgent(\n",
    "    name=\"assistant\",\n",
    "    model_client=client,\n",
    "    tools=[],\n",
    "    system_message=\"You are a travel agent that plans great vacations\",\n",
    ")"
   ]
  },
  {
   "cell_type": "markdown",
   "metadata": {},
   "source": [
    "## Run the Agent \n",
    "\n",
    "The below function will run the agent. We use the the `on_message` method to update the Agent's state with the new message. \n",
    "\n",
    "In this case, we update the state with a new message from the user which is `\"Plan me a great sunny vacation\"`.\n",
    "\n",
    "You can change the message content to see how the LLM responds differently. "
   ]
  },
  {
   "cell_type": "code",
   "execution_count": 9,
   "metadata": {},
   "outputs": [
    {
     "name": "stdout",
     "output_type": "stream",
     "text": [
      "<div style='margin-bottom:10px'><div style='font-weight:bold'>User:</div><div style='margin-left:20px'>Plan me a great sunny vacation</div></div><div style='margin-bottom:20px'><div style='font-weight:bold'>Assistant:</div><div style='margin-left:20px; white-space:pre-wrap'>Certainly! Here’s a detailed plan for a relaxing and fun sunny vacation to a popular beach destination: Costa Rica, known for its stunning beaches, lush landscapes, and vibrant wildlife. This itinerary spans a week, offering a mix of adventure, relaxation, and cultural experiences.\n",
      "\n",
      "### Day 1: Arrival in San José\n",
      "- **Morning:** Arrive at Juan Santamaría International Airport in San José.\n",
      "- **Afternoon:** Check into a hotel in San José and relax after your flight. Explore the city a bit; visit the National Theatre or the Central Market for a taste of local culture.\n",
      "- **Evening:** Enjoy dinner at a local restaurant, sampling traditional Costa Rican dishes like casado or gallo pinto.\n",
      "\n",
      "### Day 2: Travel to Manuel Antonio\n",
      "- **Morning:** After breakfast, take a bus or private transfer to Manuel Antonio (about a 3-hour drive).\n",
      "- **Afternoon:** Check into your hotel near Manuel Antonio National Park. Spend the afternoon relaxing at the beach or enjoying the hotel pool.\n",
      "- **Evening:** Dinner at a seaside restaurant that overlooks the sunset.\n",
      "\n",
      "### Day 3: National Park Exploration\n",
      "- **Morning:** Early breakfast, then embark on a guided tour of Manuel Antonio National Park. Look for capuchin monkeys, sloths, and diverse bird species.\n",
      "- **Afternoon:** Spend the afternoon at one of the park's beautiful beaches (like Playa Espadilla or Playa Manuel Antonio) for swimming and sunbathing.\n",
      "- **Evening:** Return to your hotel, freshen up, and enjoy a dinner of fresh seafood at a local eatery.\n",
      "\n",
      "### Day 4: Adventure Day\n",
      "- **Morning:** After breakfast, opt for an adventure activity such as zip-lining through the rainforest or a guided kayaking tour.\n",
      "- **Afternoon:** Have lunch at a local café, then relax or explore more of the beach area.\n",
      "- **Evening:** Attend a local dance or music performance (check to see if any cultural events are happening during your visit) and enjoy dinner nearby.\n",
      "\n",
      "### Day 5: Day Trip to Tortuga Island\n",
      "- **Morning:** Take a full-day tour to Tortuga Island. Enjoy a boat ride, snorkeling, and beach time at this beautiful island.\n",
      "- **Afternoon:** Have a picnic lunch on the beach and continue exploring the island or snorkeling in crystal-clear waters.\n",
      "- **Evening:** Return to Manuel Antonio and enjoy a quiet dinner at your hotel or a nearby restaurant.\n",
      "\n",
      "### Day 6: Arenal Volcano Adventure\n",
      "- **Morning:** After breakfast, check out and head to La Fortuna, near Arenal Volcano (approximately 3-4 hours by car).\n",
      "- **Afternoon:** Check into your hotel and have lunch. Spend your afternoon visiting the La Fortuna Waterfall for a refreshing swim.\n",
      "- **Evening:** Relax in one of the natural hot springs in the area and enjoy dinner at a local restaurant with volcano views.\n",
      "\n",
      "### Day 7: Relax and Departure\n",
      "- **Morning:** Enjoy a leisurely breakfast and perhaps a tour of Arenal Volcano National Park, where you can hike and take in stunning views.\n",
      "- **Afternoon:** Head back to San José (approximately 3 hours) for your departure flight. If time permits, grab a last-minute souvenir or two at the airport.\n",
      "- **Evening:** Depart from Juan Santamaría International Airport.\n",
      "\n",
      "### Tips:\n",
      "- **Travel Insurance:** It’s wise to consider travel insurance for added peace of mind.\n",
      "- **Packing Essentials:** Bring sunscreen, insect repellent, lightweight clothing, swimwear, hiking shoes, and a light rain jacket.\n",
      "- **Local Currency:** While many places accept credit cards, having some local currency (Costa Rican colones) for small purchases is helpful.\n",
      "\n",
      "This itinerary ensures a mixture of relaxation, cultural experiences, and adventure in the beautiful sunny paradise of Costa Rica! Enjoy your trip!</div></div>\n"
     ]
    }
   ],
   "source": [
    "from IPython.display import display, HTML\n",
    "\n",
    "\n",
    "async def assistant_run():\n",
    "    # Define the query\n",
    "    user_query = \"Plan me a great sunny vacation\"\n",
    "\n",
    "    # Start building HTML output\n",
    "    html_output = \"<div style='margin-bottom:10px'>\"\n",
    "    html_output += \"<div style='font-weight:bold'>User:</div>\"\n",
    "    html_output += f\"<div style='margin-left:20px'>{user_query}</div>\"\n",
    "    html_output += \"</div>\"\n",
    "\n",
    "    # Execute the agent response\n",
    "    response = await agent.on_messages(\n",
    "        [TextMessage(content=user_query, source=\"user\")],\n",
    "        cancellation_token=CancellationToken(),\n",
    "    )\n",
    "\n",
    "    # Add agent response to HTML\n",
    "    html_output += \"<div style='margin-bottom:20px'>\"\n",
    "    html_output += \"<div style='font-weight:bold'>Assistant:</div>\"\n",
    "    html_output += f\"<div style='margin-left:20px; white-space:pre-wrap'>{response.chat_message.content}</div>\"\n",
    "    html_output += \"</div>\"\n",
    "\n",
    "    # Display formatted HTML\n",
    "    # display(HTML(html_output))\n",
    "    return html_output\n",
    "\n",
    "# Run the function\n",
    "# await assistant_run()\n",
    "html_string = await assistant_run()\n",
    "print(html_string)\n",
    "\n",
    "\n",
    "with open(\"chat_output.md\", \"w\", encoding=\"utf-8\") as f:\n",
    "    f.write(html_string)\n",
    "\n"
   ]
  },
  {
   "cell_type": "code",
   "execution_count": 10,
   "metadata": {},
   "outputs": [
    {
     "data": {
      "text/html": [
       "<div style='margin-bottom:10px'><div style='font-weight:bold'>User:</div><div style='margin-left:20px'>Can you introduce me JAM</div></div><div style='margin-bottom:20px'><div style='font-weight:bold'>Assistant:</div><div style='margin-left:20px; white-space:pre-wrap'>Certainly! JAM refers to the concept of a decentralized protocol for creating and sharing digital content. It typically stands for \"Just a Minute\" and is often used in the context of rapid content generation or brief formats in the blockchain space.\n",
       "\n",
       "However, it's worth mentioning that there may be various acronyms or projects associated with JAM in different contexts. If you're referring to a specific project, organization, or technology related to blockchain or cryptocurrencies, could you provide more details or specify what \"JAM\" stands for in your context? This would help me give you a more accurate and detailed introduction.</div></div>"
      ],
      "text/plain": [
       "<IPython.core.display.HTML object>"
      ]
     },
     "metadata": {},
     "output_type": "display_data"
    }
   ],
   "source": [
    "agent = AssistantAgent(\n",
    "    name=\"assistant\",\n",
    "    model_client=client,\n",
    "    tools=[],\n",
    "    system_message=\"You are Dr.Gavin Wood, expert in blockchain and co-founder of Ethereum and Polkadot. \",\n",
    ")\n",
    "\n",
    "from IPython.display import display, HTML\n",
    "\n",
    "\n",
    "async def assistant_run():\n",
    "    # Define the query\n",
    "    user_query = \"Can you introduce me JAM\"\n",
    "\n",
    "    # Start building HTML output\n",
    "    html_output = \"<div style='margin-bottom:10px'>\"\n",
    "    html_output += \"<div style='font-weight:bold'>User:</div>\"\n",
    "    html_output += f\"<div style='margin-left:20px'>{user_query}</div>\"\n",
    "    html_output += \"</div>\"\n",
    "\n",
    "    # Execute the agent response\n",
    "    response = await agent.on_messages(\n",
    "        [TextMessage(content=user_query, source=\"user\")],\n",
    "        cancellation_token=CancellationToken(),\n",
    "    )\n",
    "\n",
    "    # Add agent response to HTML\n",
    "    html_output += \"<div style='margin-bottom:20px'>\"\n",
    "    html_output += \"<div style='font-weight:bold'>Assistant:</div>\"\n",
    "    html_output += f\"<div style='margin-left:20px; white-space:pre-wrap'>{response.chat_message.content}</div>\"\n",
    "    html_output += \"</div>\"\n",
    "\n",
    "    # Display formatted HTML\n",
    "    display(HTML(html_output))\n",
    "\n",
    "# Run the function\n",
    "await assistant_run()"
   ]
  }
 ],
 "metadata": {
  "kernelspec": {
   "display_name": "Python 3",
   "language": "python",
   "name": "python3"
  },
  "language_info": {
   "codemirror_mode": {
    "name": "ipython",
    "version": 3
   },
   "file_extension": ".py",
   "mimetype": "text/x-python",
   "name": "python",
   "nbconvert_exporter": "python",
   "pygments_lexer": "ipython3",
   "version": "3.12.9"
  }
 },
 "nbformat": 4,
 "nbformat_minor": 2
}
