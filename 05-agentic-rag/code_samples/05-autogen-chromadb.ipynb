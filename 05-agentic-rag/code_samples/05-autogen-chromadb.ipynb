{
 "cells": [
  {
   "cell_type": "markdown",
   "metadata": {},
   "source": [
    "# Agentic RAG with Autogen\n",
    "\n",
    "This notebook demonstrates implementing Retrieval-Augmented Generation (RAG) using Autogen agents with enhanced evaluation capabilities."
   ]
  },
  {
   "cell_type": "markdown",
   "metadata": {},
   "source": [
    "SQLite Version Fix\n",
    "If you encounter the error:\n",
    "```\n",
    "RuntimeError: Your system has an unsupported version of sqlite3. Chroma requires sqlite3 >= 3.35.0\n",
    "```\n",
    "\n",
    "Uncomment this code block at the start of your notebook:"
   ]
  },
  {
   "cell_type": "code",
   "execution_count": null,
   "metadata": {},
   "outputs": [
    {
     "ename": "KeyError",
     "evalue": "'pysqlite3'",
     "output_type": "error",
     "traceback": [
      "\u001b[1;31m---------------------------------------------------------------------------\u001b[0m",
      "\u001b[1;31mKeyError\u001b[0m                                  Traceback (most recent call last)",
      "Cell \u001b[1;32mIn[4], line 4\u001b[0m\n\u001b[0;32m      1\u001b[0m \u001b[38;5;66;03m# %pip install pysqlite3-binary\u001b[39;00m\n\u001b[0;32m      2\u001b[0m \u001b[38;5;66;03m# __import__('pysqlite3')\u001b[39;00m\n\u001b[0;32m      3\u001b[0m \u001b[38;5;28;01mimport\u001b[39;00m \u001b[38;5;21;01msys\u001b[39;00m\n\u001b[1;32m----> 4\u001b[0m sys\u001b[38;5;241m.\u001b[39mmodules[\u001b[38;5;124m'\u001b[39m\u001b[38;5;124msqlite3\u001b[39m\u001b[38;5;124m'\u001b[39m] \u001b[38;5;241m=\u001b[39m \u001b[43msys\u001b[49m\u001b[38;5;241;43m.\u001b[39;49m\u001b[43mmodules\u001b[49m\u001b[38;5;241;43m.\u001b[39;49m\u001b[43mpop\u001b[49m\u001b[43m(\u001b[49m\u001b[38;5;124;43m'\u001b[39;49m\u001b[38;5;124;43mpysqlite3\u001b[39;49m\u001b[38;5;124;43m'\u001b[39;49m\u001b[43m)\u001b[49m\n",
      "\u001b[1;31mKeyError\u001b[0m: 'pysqlite3'"
     ]
    }
   ],
   "source": [
    "# # %pip install pysqlite3-binary\n",
    "# __import__('pysqlite3')\n",
    "# import sys\n",
    "# sys.modules['sqlite3'] = sys.modules.pop('pysqlite3')"
   ]
  },
  {
   "cell_type": "code",
   "execution_count": 2,
   "metadata": {},
   "outputs": [
    {
     "ename": "ValueError",
     "evalue": "The onnxruntime python package is not installed. Please install it with `pip install onnxruntime`",
     "output_type": "error",
     "traceback": [
      "\u001b[1;31m---------------------------------------------------------------------------\u001b[0m",
      "\u001b[1;31mImportError\u001b[0m                               Traceback (most recent call last)",
      "File \u001b[1;32mc:\\Users\\User\\AppData\\Local\\Programs\\Python\\Python312\\Lib\\site-packages\\chromadb\\utils\\embedding_functions\\onnx_mini_lm_l6_v2.py:63\u001b[0m, in \u001b[0;36mONNXMiniLM_L6_V2.__init__\u001b[1;34m(self, preferred_providers)\u001b[0m\n\u001b[0;32m     61\u001b[0m \u001b[38;5;28;01mtry\u001b[39;00m:\n\u001b[0;32m     62\u001b[0m     \u001b[38;5;66;03m# Equivalent to import onnxruntime\u001b[39;00m\n\u001b[1;32m---> 63\u001b[0m     \u001b[38;5;28mself\u001b[39m\u001b[38;5;241m.\u001b[39mort \u001b[38;5;241m=\u001b[39m \u001b[43mimportlib\u001b[49m\u001b[38;5;241;43m.\u001b[39;49m\u001b[43mimport_module\u001b[49m\u001b[43m(\u001b[49m\u001b[38;5;124;43m\"\u001b[39;49m\u001b[38;5;124;43monnxruntime\u001b[39;49m\u001b[38;5;124;43m\"\u001b[39;49m\u001b[43m)\u001b[49m\n\u001b[0;32m     64\u001b[0m \u001b[38;5;28;01mexcept\u001b[39;00m \u001b[38;5;167;01mImportError\u001b[39;00m:\n",
      "File \u001b[1;32mc:\\Users\\User\\AppData\\Local\\Programs\\Python\\Python312\\Lib\\importlib\\__init__.py:90\u001b[0m, in \u001b[0;36mimport_module\u001b[1;34m(name, package)\u001b[0m\n\u001b[0;32m     89\u001b[0m         level \u001b[38;5;241m+\u001b[39m\u001b[38;5;241m=\u001b[39m \u001b[38;5;241m1\u001b[39m\n\u001b[1;32m---> 90\u001b[0m \u001b[38;5;28;01mreturn\u001b[39;00m \u001b[43m_bootstrap\u001b[49m\u001b[38;5;241;43m.\u001b[39;49m\u001b[43m_gcd_import\u001b[49m\u001b[43m(\u001b[49m\u001b[43mname\u001b[49m\u001b[43m[\u001b[49m\u001b[43mlevel\u001b[49m\u001b[43m:\u001b[49m\u001b[43m]\u001b[49m\u001b[43m,\u001b[49m\u001b[43m \u001b[49m\u001b[43mpackage\u001b[49m\u001b[43m,\u001b[49m\u001b[43m \u001b[49m\u001b[43mlevel\u001b[49m\u001b[43m)\u001b[49m\n",
      "File \u001b[1;32m<frozen importlib._bootstrap>:1387\u001b[0m, in \u001b[0;36m_gcd_import\u001b[1;34m(name, package, level)\u001b[0m\n",
      "File \u001b[1;32m<frozen importlib._bootstrap>:1360\u001b[0m, in \u001b[0;36m_find_and_load\u001b[1;34m(name, import_)\u001b[0m\n",
      "File \u001b[1;32m<frozen importlib._bootstrap>:1331\u001b[0m, in \u001b[0;36m_find_and_load_unlocked\u001b[1;34m(name, import_)\u001b[0m\n",
      "File \u001b[1;32m<frozen importlib._bootstrap>:935\u001b[0m, in \u001b[0;36m_load_unlocked\u001b[1;34m(spec)\u001b[0m\n",
      "File \u001b[1;32m<frozen importlib._bootstrap_external>:999\u001b[0m, in \u001b[0;36mexec_module\u001b[1;34m(self, module)\u001b[0m\n",
      "File \u001b[1;32m<frozen importlib._bootstrap>:488\u001b[0m, in \u001b[0;36m_call_with_frames_removed\u001b[1;34m(f, *args, **kwds)\u001b[0m\n",
      "File \u001b[1;32mc:\\Users\\User\\AppData\\Local\\Programs\\Python\\Python312\\Lib\\site-packages\\onnxruntime\\__init__.py:61\u001b[0m\n\u001b[0;32m     60\u001b[0m \u001b[38;5;28;01mif\u001b[39;00m import_capi_exception:\n\u001b[1;32m---> 61\u001b[0m     \u001b[38;5;28;01mraise\u001b[39;00m import_capi_exception\n\u001b[0;32m     63\u001b[0m \u001b[38;5;28;01mfrom\u001b[39;00m \u001b[38;5;21;01monnxruntime\u001b[39;00m\u001b[38;5;21;01m.\u001b[39;00m\u001b[38;5;21;01mcapi\u001b[39;00m\u001b[38;5;21;01m.\u001b[39;00m\u001b[38;5;21;01monnxruntime_inference_collection\u001b[39;00m \u001b[38;5;28;01mimport\u001b[39;00m (\n\u001b[0;32m     64\u001b[0m     AdapterFormat,  \u001b[38;5;66;03m# noqa: F401\u001b[39;00m\n\u001b[0;32m     65\u001b[0m     InferenceSession,  \u001b[38;5;66;03m# noqa: F401\u001b[39;00m\n\u001b[1;32m   (...)\u001b[0m\n\u001b[0;32m     69\u001b[0m     SparseTensor,  \u001b[38;5;66;03m# noqa: F401\u001b[39;00m\n\u001b[0;32m     70\u001b[0m )\n",
      "File \u001b[1;32mc:\\Users\\User\\AppData\\Local\\Programs\\Python\\Python312\\Lib\\site-packages\\onnxruntime\\__init__.py:24\u001b[0m\n\u001b[0;32m     23\u001b[0m \u001b[38;5;28;01mtry\u001b[39;00m:\n\u001b[1;32m---> 24\u001b[0m     \u001b[38;5;28;01mfrom\u001b[39;00m \u001b[38;5;21;01monnxruntime\u001b[39;00m\u001b[38;5;21;01m.\u001b[39;00m\u001b[38;5;21;01mcapi\u001b[39;00m\u001b[38;5;21;01m.\u001b[39;00m\u001b[38;5;21;01m_pybind_state\u001b[39;00m \u001b[38;5;28;01mimport\u001b[39;00m (\n\u001b[0;32m     25\u001b[0m         ExecutionMode,  \u001b[38;5;66;03m# noqa: F401\u001b[39;00m\n\u001b[0;32m     26\u001b[0m         ExecutionOrder,  \u001b[38;5;66;03m# noqa: F401\u001b[39;00m\n\u001b[0;32m     27\u001b[0m         GraphOptimizationLevel,  \u001b[38;5;66;03m# noqa: F401\u001b[39;00m\n\u001b[0;32m     28\u001b[0m         LoraAdapter,  \u001b[38;5;66;03m# noqa: F401\u001b[39;00m\n\u001b[0;32m     29\u001b[0m         ModelMetadata,  \u001b[38;5;66;03m# noqa: F401\u001b[39;00m\n\u001b[0;32m     30\u001b[0m         NodeArg,  \u001b[38;5;66;03m# noqa: F401\u001b[39;00m\n\u001b[0;32m     31\u001b[0m         OrtAllocatorType,  \u001b[38;5;66;03m# noqa: F401\u001b[39;00m\n\u001b[0;32m     32\u001b[0m         OrtArenaCfg,  \u001b[38;5;66;03m# noqa: F401\u001b[39;00m\n\u001b[0;32m     33\u001b[0m         OrtMemoryInfo,  \u001b[38;5;66;03m# noqa: F401\u001b[39;00m\n\u001b[0;32m     34\u001b[0m         OrtMemType,  \u001b[38;5;66;03m# noqa: F401\u001b[39;00m\n\u001b[0;32m     35\u001b[0m         OrtSparseFormat,  \u001b[38;5;66;03m# noqa: F401\u001b[39;00m\n\u001b[0;32m     36\u001b[0m         RunOptions,  \u001b[38;5;66;03m# noqa: F401\u001b[39;00m\n\u001b[0;32m     37\u001b[0m         SessionIOBinding,  \u001b[38;5;66;03m# noqa: F401\u001b[39;00m\n\u001b[0;32m     38\u001b[0m         SessionOptions,  \u001b[38;5;66;03m# noqa: F401\u001b[39;00m\n\u001b[0;32m     39\u001b[0m         create_and_register_allocator,  \u001b[38;5;66;03m# noqa: F401\u001b[39;00m\n\u001b[0;32m     40\u001b[0m         create_and_register_allocator_v2,  \u001b[38;5;66;03m# noqa: F401\u001b[39;00m\n\u001b[0;32m     41\u001b[0m         disable_telemetry_events,  \u001b[38;5;66;03m# noqa: F401\u001b[39;00m\n\u001b[0;32m     42\u001b[0m         enable_telemetry_events,  \u001b[38;5;66;03m# noqa: F401\u001b[39;00m\n\u001b[0;32m     43\u001b[0m         get_all_providers,  \u001b[38;5;66;03m# noqa: F401\u001b[39;00m\n\u001b[0;32m     44\u001b[0m         get_available_providers,  \u001b[38;5;66;03m# noqa: F401\u001b[39;00m\n\u001b[0;32m     45\u001b[0m         get_build_info,  \u001b[38;5;66;03m# noqa: F401\u001b[39;00m\n\u001b[0;32m     46\u001b[0m         get_device,  \u001b[38;5;66;03m# noqa: F401\u001b[39;00m\n\u001b[0;32m     47\u001b[0m         get_version_string,  \u001b[38;5;66;03m# noqa: F401\u001b[39;00m\n\u001b[0;32m     48\u001b[0m         has_collective_ops,  \u001b[38;5;66;03m# noqa: F401\u001b[39;00m\n\u001b[0;32m     49\u001b[0m         set_default_logger_severity,  \u001b[38;5;66;03m# noqa: F401\u001b[39;00m\n\u001b[0;32m     50\u001b[0m         set_default_logger_verbosity,  \u001b[38;5;66;03m# noqa: F401\u001b[39;00m\n\u001b[0;32m     51\u001b[0m         set_seed,  \u001b[38;5;66;03m# noqa: F401\u001b[39;00m\n\u001b[0;32m     52\u001b[0m     )\n\u001b[0;32m     54\u001b[0m     import_capi_exception \u001b[38;5;241m=\u001b[39m \u001b[38;5;28;01mNone\u001b[39;00m\n",
      "File \u001b[1;32mc:\\Users\\User\\AppData\\Local\\Programs\\Python\\Python312\\Lib\\site-packages\\onnxruntime\\capi\\_pybind_state.py:32\u001b[0m\n\u001b[0;32m     25\u001b[0m             warnings\u001b[38;5;241m.\u001b[39mwarn(\u001b[38;5;124m\"\u001b[39m\u001b[38;5;124mPlease install the 2019 Visual C++ runtime and then try again. \u001b[39m\u001b[38;5;124m\"\u001b[39m\n\u001b[0;32m     26\u001b[0m                           \u001b[38;5;124m\"\u001b[39m\u001b[38;5;124mIf you\u001b[39m\u001b[38;5;124m'\u001b[39m\u001b[38;5;124mve installed the runtime in a non-standard location \u001b[39m\u001b[38;5;124m\"\u001b[39m\n\u001b[0;32m     27\u001b[0m                           \u001b[38;5;124m\"\u001b[39m\u001b[38;5;124m(other than \u001b[39m\u001b[38;5;124m%\u001b[39m\u001b[38;5;124mSystemRoot\u001b[39m\u001b[38;5;124m%\u001b[39m\u001b[38;5;130;01m\\\\\u001b[39;00m\u001b[38;5;124mSystem32), \u001b[39m\u001b[38;5;124m\"\u001b[39m\n\u001b[0;32m     28\u001b[0m                           \u001b[38;5;124m\"\u001b[39m\u001b[38;5;124mmake sure it can be found by setting the correct path.\u001b[39m\u001b[38;5;124m\"\u001b[39m)\n\u001b[1;32m---> 32\u001b[0m \u001b[38;5;28;01mfrom\u001b[39;00m \u001b[38;5;21;01m.\u001b[39;00m\u001b[38;5;21;01monnxruntime_pybind11_state\u001b[39;00m \u001b[38;5;28;01mimport\u001b[39;00m \u001b[38;5;241m*\u001b[39m  \u001b[38;5;66;03m# noqa\u001b[39;00m\n",
      "\u001b[1;31mImportError\u001b[0m: DLL load failed while importing onnxruntime_pybind11_state: A dynamic link library (DLL) initialization routine failed.",
      "\nDuring handling of the above exception, another exception occurred:\n",
      "\u001b[1;31mValueError\u001b[0m                                Traceback (most recent call last)",
      "Cell \u001b[1;32mIn[2], line 13\u001b[0m\n\u001b[0;32m     10\u001b[0m \u001b[38;5;28;01mfrom\u001b[39;00m \u001b[38;5;21;01mazure\u001b[39;00m\u001b[38;5;21;01m.\u001b[39;00m\u001b[38;5;21;01mcore\u001b[39;00m\u001b[38;5;21;01m.\u001b[39;00m\u001b[38;5;21;01mcredentials\u001b[39;00m \u001b[38;5;28;01mimport\u001b[39;00m AzureKeyCredential\n\u001b[0;32m     11\u001b[0m \u001b[38;5;28;01mfrom\u001b[39;00m \u001b[38;5;21;01mautogen_ext\u001b[39;00m\u001b[38;5;21;01m.\u001b[39;00m\u001b[38;5;21;01mmodels\u001b[39;00m\u001b[38;5;21;01m.\u001b[39;00m\u001b[38;5;21;01mazure\u001b[39;00m \u001b[38;5;28;01mimport\u001b[39;00m AzureAIChatCompletionClient\n\u001b[1;32m---> 13\u001b[0m \u001b[38;5;28;01mimport\u001b[39;00m \u001b[38;5;21;01mchromadb\u001b[39;00m\n\u001b[0;32m     15\u001b[0m load_dotenv()\n",
      "File \u001b[1;32mc:\\Users\\User\\AppData\\Local\\Programs\\Python\\Python312\\Lib\\site-packages\\chromadb\\__init__.py:3\u001b[0m\n\u001b[0;32m      1\u001b[0m \u001b[38;5;28;01mfrom\u001b[39;00m \u001b[38;5;21;01mtyping\u001b[39;00m \u001b[38;5;28;01mimport\u001b[39;00m Dict, Optional\n\u001b[0;32m      2\u001b[0m \u001b[38;5;28;01mimport\u001b[39;00m \u001b[38;5;21;01mlogging\u001b[39;00m\n\u001b[1;32m----> 3\u001b[0m \u001b[38;5;28;01mfrom\u001b[39;00m \u001b[38;5;21;01mchromadb\u001b[39;00m\u001b[38;5;21;01m.\u001b[39;00m\u001b[38;5;21;01mapi\u001b[39;00m\u001b[38;5;21;01m.\u001b[39;00m\u001b[38;5;21;01mclient\u001b[39;00m \u001b[38;5;28;01mimport\u001b[39;00m Client \u001b[38;5;28;01mas\u001b[39;00m ClientCreator\n\u001b[0;32m      4\u001b[0m \u001b[38;5;28;01mfrom\u001b[39;00m \u001b[38;5;21;01mchromadb\u001b[39;00m\u001b[38;5;21;01m.\u001b[39;00m\u001b[38;5;21;01mapi\u001b[39;00m\u001b[38;5;21;01m.\u001b[39;00m\u001b[38;5;21;01mclient\u001b[39;00m \u001b[38;5;28;01mimport\u001b[39;00m AdminClient \u001b[38;5;28;01mas\u001b[39;00m AdminClientCreator\n\u001b[0;32m      5\u001b[0m \u001b[38;5;28;01mfrom\u001b[39;00m \u001b[38;5;21;01mchromadb\u001b[39;00m\u001b[38;5;21;01m.\u001b[39;00m\u001b[38;5;21;01mapi\u001b[39;00m\u001b[38;5;21;01m.\u001b[39;00m\u001b[38;5;21;01masync_client\u001b[39;00m \u001b[38;5;28;01mimport\u001b[39;00m AsyncClient \u001b[38;5;28;01mas\u001b[39;00m AsyncClientCreator\n",
      "File \u001b[1;32mc:\\Users\\User\\AppData\\Local\\Programs\\Python\\Python312\\Lib\\site-packages\\chromadb\\api\\__init__.py:34\u001b[0m\n\u001b[0;32m     32\u001b[0m \u001b[38;5;28;01mfrom\u001b[39;00m \u001b[38;5;21;01mchromadb\u001b[39;00m\u001b[38;5;21;01m.\u001b[39;00m\u001b[38;5;21;01mtypes\u001b[39;00m \u001b[38;5;28;01mimport\u001b[39;00m Database, Tenant, Collection \u001b[38;5;28;01mas\u001b[39;00m CollectionModel\n\u001b[0;32m     33\u001b[0m \u001b[38;5;28;01mimport\u001b[39;00m \u001b[38;5;21;01mchromadb\u001b[39;00m\u001b[38;5;21;01m.\u001b[39;00m\u001b[38;5;21;01mutils\u001b[39;00m\u001b[38;5;21;01m.\u001b[39;00m\u001b[38;5;21;01membedding_functions\u001b[39;00m \u001b[38;5;28;01mas\u001b[39;00m \u001b[38;5;21;01mef\u001b[39;00m\n\u001b[1;32m---> 34\u001b[0m \u001b[38;5;28;01mfrom\u001b[39;00m \u001b[38;5;21;01mchromadb\u001b[39;00m\u001b[38;5;21;01m.\u001b[39;00m\u001b[38;5;21;01mapi\u001b[39;00m\u001b[38;5;21;01m.\u001b[39;00m\u001b[38;5;21;01mmodels\u001b[39;00m\u001b[38;5;21;01m.\u001b[39;00m\u001b[38;5;21;01mCollection\u001b[39;00m \u001b[38;5;28;01mimport\u001b[39;00m Collection, CollectionName\n\u001b[0;32m     36\u001b[0m \u001b[38;5;66;03m# Re-export the async version\u001b[39;00m\n\u001b[0;32m     37\u001b[0m \u001b[38;5;28;01mfrom\u001b[39;00m \u001b[38;5;21;01mchromadb\u001b[39;00m\u001b[38;5;21;01m.\u001b[39;00m\u001b[38;5;21;01mapi\u001b[39;00m\u001b[38;5;21;01m.\u001b[39;00m\u001b[38;5;21;01masync_api\u001b[39;00m \u001b[38;5;28;01mimport\u001b[39;00m (  \u001b[38;5;66;03m# noqa: F401\u001b[39;00m\n\u001b[0;32m     38\u001b[0m     AsyncBaseAPI \u001b[38;5;28;01mas\u001b[39;00m AsyncBaseAPI,\n\u001b[0;32m     39\u001b[0m     AsyncClientAPI \u001b[38;5;28;01mas\u001b[39;00m AsyncClientAPI,\n\u001b[0;32m     40\u001b[0m     AsyncAdminAPI \u001b[38;5;28;01mas\u001b[39;00m AsyncAdminAPI,\n\u001b[0;32m     41\u001b[0m     AsyncServerAPI \u001b[38;5;28;01mas\u001b[39;00m AsyncServerAPI,\n\u001b[0;32m     42\u001b[0m )\n",
      "File \u001b[1;32mc:\\Users\\User\\AppData\\Local\\Programs\\Python\\Python312\\Lib\\site-packages\\chromadb\\api\\models\\Collection.py:4\u001b[0m\n\u001b[0;32m      1\u001b[0m \u001b[38;5;28;01mimport\u001b[39;00m \u001b[38;5;21;01minspect\u001b[39;00m\n\u001b[0;32m      2\u001b[0m \u001b[38;5;28;01mfrom\u001b[39;00m \u001b[38;5;21;01mtyping\u001b[39;00m \u001b[38;5;28;01mimport\u001b[39;00m TYPE_CHECKING, Optional, Union\n\u001b[1;32m----> 4\u001b[0m \u001b[38;5;28;01mfrom\u001b[39;00m \u001b[38;5;21;01mchromadb\u001b[39;00m\u001b[38;5;21;01m.\u001b[39;00m\u001b[38;5;21;01mapi\u001b[39;00m\u001b[38;5;21;01m.\u001b[39;00m\u001b[38;5;21;01mmodels\u001b[39;00m\u001b[38;5;21;01m.\u001b[39;00m\u001b[38;5;21;01mCollectionCommon\u001b[39;00m \u001b[38;5;28;01mimport\u001b[39;00m CollectionCommon\n\u001b[0;32m      5\u001b[0m \u001b[38;5;28;01mfrom\u001b[39;00m \u001b[38;5;21;01mchromadb\u001b[39;00m\u001b[38;5;21;01m.\u001b[39;00m\u001b[38;5;21;01mapi\u001b[39;00m\u001b[38;5;21;01m.\u001b[39;00m\u001b[38;5;21;01mtypes\u001b[39;00m \u001b[38;5;28;01mimport\u001b[39;00m (\n\u001b[0;32m      6\u001b[0m     URI,\n\u001b[0;32m      7\u001b[0m     CollectionMetadata,\n\u001b[1;32m   (...)\u001b[0m\n\u001b[0;32m     22\u001b[0m     IncludeEnum,\n\u001b[0;32m     23\u001b[0m )\n\u001b[0;32m     25\u001b[0m \u001b[38;5;28;01mimport\u001b[39;00m \u001b[38;5;21;01mlogging\u001b[39;00m\n",
      "File \u001b[1;32mc:\\Users\\User\\AppData\\Local\\Programs\\Python\\Python312\\Lib\\site-packages\\chromadb\\api\\models\\CollectionCommon.py:100\u001b[0m\n\u001b[0;32m     95\u001b[0m         \u001b[38;5;28;01mreturn\u001b[39;00m wrapper\n\u001b[0;32m     97\u001b[0m     \u001b[38;5;28;01mreturn\u001b[39;00m decorator\n\u001b[1;32m--> 100\u001b[0m \u001b[38;5;28;43;01mclass\u001b[39;49;00m\u001b[43m \u001b[49m\u001b[38;5;21;43;01mCollectionCommon\u001b[39;49;00m\u001b[43m(\u001b[49m\u001b[43mGeneric\u001b[49m\u001b[43m[\u001b[49m\u001b[43mClientT\u001b[49m\u001b[43m]\u001b[49m\u001b[43m)\u001b[49m\u001b[43m:\u001b[49m\n\u001b[0;32m    101\u001b[0m \u001b[43m    \u001b[49m\u001b[43m_model\u001b[49m\u001b[43m:\u001b[49m\u001b[43m \u001b[49m\u001b[43mCollectionModel\u001b[49m\n\u001b[0;32m    102\u001b[0m \u001b[43m    \u001b[49m\u001b[43m_client\u001b[49m\u001b[43m:\u001b[49m\u001b[43m \u001b[49m\u001b[43mClientT\u001b[49m\n",
      "File \u001b[1;32mc:\\Users\\User\\AppData\\Local\\Programs\\Python\\Python312\\Lib\\site-packages\\chromadb\\api\\models\\CollectionCommon.py:112\u001b[0m, in \u001b[0;36mCollectionCommon\u001b[1;34m()\u001b[0m\n\u001b[0;32m    103\u001b[0m _embedding_function: Optional[EmbeddingFunction[Embeddable]]\n\u001b[0;32m    104\u001b[0m _data_loader: Optional[DataLoader[Loadable]]\n\u001b[0;32m    106\u001b[0m \u001b[38;5;28;01mdef\u001b[39;00m \u001b[38;5;21m__init__\u001b[39m(\n\u001b[0;32m    107\u001b[0m     \u001b[38;5;28mself\u001b[39m,\n\u001b[0;32m    108\u001b[0m     client: ClientT,\n\u001b[0;32m    109\u001b[0m     model: CollectionModel,\n\u001b[0;32m    110\u001b[0m     embedding_function: Optional[\n\u001b[0;32m    111\u001b[0m         EmbeddingFunction[Embeddable]\n\u001b[1;32m--> 112\u001b[0m     ] \u001b[38;5;241m=\u001b[39m \u001b[43mef\u001b[49m\u001b[38;5;241;43m.\u001b[39;49m\u001b[43mDefaultEmbeddingFunction\u001b[49m\u001b[43m(\u001b[49m\u001b[43m)\u001b[49m,  \u001b[38;5;66;03m# type: ignore\u001b[39;00m\n\u001b[0;32m    113\u001b[0m     data_loader: Optional[DataLoader[Loadable]] \u001b[38;5;241m=\u001b[39m \u001b[38;5;28;01mNone\u001b[39;00m,\n\u001b[0;32m    114\u001b[0m ):\n\u001b[0;32m    115\u001b[0m \u001b[38;5;250m    \u001b[39m\u001b[38;5;124;03m\"\"\"Initializes a new instance of the Collection class.\"\"\"\u001b[39;00m\n\u001b[0;32m    117\u001b[0m     \u001b[38;5;28mself\u001b[39m\u001b[38;5;241m.\u001b[39m_client \u001b[38;5;241m=\u001b[39m client\n",
      "File \u001b[1;32mc:\\Users\\User\\AppData\\Local\\Programs\\Python\\Python312\\Lib\\site-packages\\chromadb\\utils\\embedding_functions\\__init__.py:57\u001b[0m, in \u001b[0;36mDefaultEmbeddingFunction\u001b[1;34m()\u001b[0m\n\u001b[0;32m     52\u001b[0m     \u001b[38;5;28;01mreturn\u001b[39;00m \u001b[38;5;28;01mNone\u001b[39;00m\n\u001b[0;32m     53\u001b[0m \u001b[38;5;28;01melse\u001b[39;00m:\n\u001b[0;32m     54\u001b[0m     \u001b[38;5;28;01mreturn\u001b[39;00m cast(\n\u001b[0;32m     55\u001b[0m         EmbeddingFunction[Documents],\n\u001b[0;32m     56\u001b[0m         \u001b[38;5;66;03m# This is implicitly imported above\u001b[39;00m\n\u001b[1;32m---> 57\u001b[0m         \u001b[43mONNXMiniLM_L6_V2\u001b[49m\u001b[43m(\u001b[49m\u001b[43m)\u001b[49m,  \u001b[38;5;66;03m# type: ignore[name-defined] # noqa: F821\u001b[39;00m\n\u001b[0;32m     58\u001b[0m     )\n",
      "File \u001b[1;32mc:\\Users\\User\\AppData\\Local\\Programs\\Python\\Python312\\Lib\\site-packages\\chromadb\\utils\\embedding_functions\\onnx_mini_lm_l6_v2.py:65\u001b[0m, in \u001b[0;36mONNXMiniLM_L6_V2.__init__\u001b[1;34m(self, preferred_providers)\u001b[0m\n\u001b[0;32m     63\u001b[0m     \u001b[38;5;28mself\u001b[39m\u001b[38;5;241m.\u001b[39mort \u001b[38;5;241m=\u001b[39m importlib\u001b[38;5;241m.\u001b[39mimport_module(\u001b[38;5;124m\"\u001b[39m\u001b[38;5;124monnxruntime\u001b[39m\u001b[38;5;124m\"\u001b[39m)\n\u001b[0;32m     64\u001b[0m \u001b[38;5;28;01mexcept\u001b[39;00m \u001b[38;5;167;01mImportError\u001b[39;00m:\n\u001b[1;32m---> 65\u001b[0m     \u001b[38;5;28;01mraise\u001b[39;00m \u001b[38;5;167;01mValueError\u001b[39;00m(\n\u001b[0;32m     66\u001b[0m         \u001b[38;5;124m\"\u001b[39m\u001b[38;5;124mThe onnxruntime python package is not installed. Please install it with `pip install onnxruntime`\u001b[39m\u001b[38;5;124m\"\u001b[39m\n\u001b[0;32m     67\u001b[0m     )\n\u001b[0;32m     68\u001b[0m \u001b[38;5;28;01mtry\u001b[39;00m:\n\u001b[0;32m     69\u001b[0m     \u001b[38;5;66;03m# Equivalent to from tokenizers import Tokenizer\u001b[39;00m\n\u001b[0;32m     70\u001b[0m     \u001b[38;5;28mself\u001b[39m\u001b[38;5;241m.\u001b[39mTokenizer \u001b[38;5;241m=\u001b[39m importlib\u001b[38;5;241m.\u001b[39mimport_module(\u001b[38;5;124m\"\u001b[39m\u001b[38;5;124mtokenizers\u001b[39m\u001b[38;5;124m\"\u001b[39m)\u001b[38;5;241m.\u001b[39mTokenizer\n",
      "\u001b[1;31mValueError\u001b[0m: The onnxruntime python package is not installed. Please install it with `pip install onnxruntime`"
     ]
    }
   ],
   "source": [
    "import os\n",
    "import time\n",
    "import asyncio\n",
    "from typing import List, Dict\n",
    "from dotenv import load_dotenv\n",
    "\n",
    "from autogen_agentchat.agents import AssistantAgent\n",
    "from autogen_core import CancellationToken\n",
    "from autogen_agentchat.messages import TextMessage\n",
    "from azure.core.credentials import AzureKeyCredential\n",
    "from autogen_ext.models.azure import AzureAIChatCompletionClient\n",
    "\n",
    "import chromadb\n",
    "\n",
    "load_dotenv()"
   ]
  },
  {
   "cell_type": "markdown",
   "metadata": {},
   "source": [
    "## Create the Client \n",
    "\n",
    "First, we initialize the Azure AI Chat Completion Client. This client will be used to interact with the Azure OpenAI service to generate responses to user queries."
   ]
  },
  {
   "cell_type": "code",
   "execution_count": 4,
   "metadata": {},
   "outputs": [],
   "source": [
    "client = AzureAIChatCompletionClient(\n",
    "    model=\"gpt-4o-mini\",\n",
    "    endpoint=\"https://models.inference.ai.azure.com\",\n",
    "    credential=AzureKeyCredential(os.getenv(\"GITHUB_TOKEN\")),\n",
    "    model_info={\n",
    "        \"json_output\": True,\n",
    "        \"function_calling\": True,\n",
    "        \"vision\": True,\n",
    "        \"family\": \"unknown\",\n",
    "    },\n",
    ")"
   ]
  },
  {
   "cell_type": "markdown",
   "metadata": {},
   "source": [
    "## Vector Database Initialization\n",
    "\n",
    "We initialize ChromaDB with persistent storage and add enhanced sample documents. ChromaDB will be used to store and retrieve documents that provide context for generating accurate responses."
   ]
  },
  {
   "cell_type": "code",
   "execution_count": 5,
   "metadata": {},
   "outputs": [],
   "source": [
    "# Initialize ChromaDB with persistent storage\n",
    "chroma_client = chromadb.PersistentClient(path=\"./chroma_db\")\n",
    "collection = chroma_client.create_collection(\n",
    "    name=\"travel_documents\",\n",
    "    metadata={\"description\": \"travel_service\"},\n",
    "    get_or_create=True\n",
    ")\n",
    "\n",
    "# Enhanced sample documents\n",
    "documents = [\n",
    "    \"Contoso Travel offers luxury vacation packages to exotic destinations worldwide.\",\n",
    "    \"Our premium travel services include personalized itinerary planning and 24/7 concierge support.\",\n",
    "    \"Contoso's travel insurance covers medical emergencies, trip cancellations, and lost baggage.\",\n",
    "    \"Popular destinations include the Maldives, Swiss Alps, and African safaris.\",\n",
    "    \"Contoso Travel provides exclusive access to boutique hotels and private guided tours.\"\n",
    "]\n",
    "\n",
    "# Add documents with metadata\n",
    "collection.add(\n",
    "    documents=documents,\n",
    "    ids=[f\"doc_{i}\" for i in range(len(documents))],\n",
    "    metadatas=[{\"source\": \"training\", \"type\": \"explanation\"} for _ in documents]\n",
    ")"
   ]
  },
  {
   "cell_type": "markdown",
   "metadata": {},
   "source": [
    "## Context Provider Implementation\n",
    "\n",
    "The `ContextProvider` class handles context retrieval and integration from multiple sources:\n",
    "\n",
    "1. **Vector Database Retrieval**: Uses ChromaDB to perform semantic search on travel documents\n",
    "2. **Weather Information**: Maintains a simulated weather database for major cities\n",
    "3. **Unified Context**: Combines both document and weather data into comprehensive context\n",
    "\n",
    "Key methods:\n",
    "- `get_retrieval_context()`: Retrieves relevant documents based on query\n",
    "- `get_weather_data()`: Provides weather information for specified locations\n",
    "- `get_unified_context()`: Combines both document and weather contexts for enhanced responses"
   ]
  },
  {
   "cell_type": "code",
   "execution_count": 6,
   "metadata": {},
   "outputs": [],
   "source": [
    "class ContextProvider:\n",
    "    def __init__(self, collection):\n",
    "        self.collection = collection\n",
    "        # Simulated weather database\n",
    "        self.weather_database = {\n",
    "            \"new york\": {\"temperature\": 72, \"condition\": \"Partly Cloudy\", \"humidity\": 65, \"wind\": \"10 mph\"},\n",
    "            \"london\": {\"temperature\": 60, \"condition\": \"Rainy\", \"humidity\": 80, \"wind\": \"15 mph\"},\n",
    "            \"tokyo\": {\"temperature\": 75, \"condition\": \"Sunny\", \"humidity\": 50, \"wind\": \"5 mph\"},\n",
    "            \"sydney\": {\"temperature\": 80, \"condition\": \"Clear\", \"humidity\": 45, \"wind\": \"12 mph\"},\n",
    "            \"paris\": {\"temperature\": 68, \"condition\": \"Cloudy\", \"humidity\": 70, \"wind\": \"8 mph\"},\n",
    "        }\n",
    "    \n",
    "    def get_retrieval_context(self, query: str) -> str:\n",
    "        \"\"\"Retrieves relevant documents from vector database based on query.\"\"\"\n",
    "        results = self.collection.query(\n",
    "            query_texts=[query],\n",
    "            include=[\"documents\", \"metadatas\"],\n",
    "            n_results=2\n",
    "        )\n",
    "        context_strings = []\n",
    "        if results and results.get(\"documents\") and len(results[\"documents\"][0]) > 0:\n",
    "            for doc, meta in zip(results[\"documents\"][0], results[\"metadatas\"][0]):\n",
    "                context_strings.append(f\"Document: {doc}\\nMetadata: {meta}\")\n",
    "        return \"\\n\\n\".join(context_strings) if context_strings else \"No relevant documents found\"\n",
    "    \n",
    "    def get_weather_data(self, location: str) -> str:\n",
    "        \"\"\"Simulates retrieving weather data for a given location.\"\"\"\n",
    "        if not location:\n",
    "            return \"\"\n",
    "            \n",
    "        location_key = location.lower()\n",
    "        if location_key in self.weather_database:\n",
    "            data = self.weather_database[location_key]\n",
    "            return f\"Weather for {location.title()}:\\n\" \\\n",
    "                   f\"Temperature: {data['temperature']}°F\\n\" \\\n",
    "                   f\"Condition: {data['condition']}\\n\" \\\n",
    "                   f\"Humidity: {data['humidity']}%\\n\" \\\n",
    "                   f\"Wind: {data['wind']}\"\n",
    "        else:\n",
    "            return f\"No weather data available for {location}.\"\n",
    "    \n",
    "    def get_unified_context(self, query: str, location: str = None) -> str:\n",
    "        \"\"\"Returns a unified context combining both document retrieval and weather data.\"\"\"\n",
    "        retrieval_context = self.get_retrieval_context(query)\n",
    "        \n",
    "        weather_context = \"\"\n",
    "        if location:\n",
    "            weather_context = self.get_weather_data(location)\n",
    "            weather_intro = f\"\\nWeather Information for {location}:\\n\"\n",
    "        else:\n",
    "            weather_intro = \"\"\n",
    "        \n",
    "        return f\"Retrieved Context:\\n{retrieval_context}\\n\\n{weather_intro}{weather_context}\""
   ]
  },
  {
   "cell_type": "markdown",
   "metadata": {},
   "source": [
    "## Agent Configuration\n",
    "\n",
    "We configure the retrieval and assistant agents. The retrieval agent is specialized in finding relevant information using semantic search, while the assistant generates detailed responses based on the retrieved information."
   ]
  },
  {
   "cell_type": "code",
   "execution_count": 7,
   "metadata": {},
   "outputs": [],
   "source": [
    "# Create agents with enhanced capabilities\n",
    "assistant = AssistantAgent(\n",
    "    name=\"assistant\",\n",
    "    model_client=client,\n",
    "    system_message=(\n",
    "        \"You are a helpful AI assistant that provides answers using ONLY the provided context. \"\n",
    "        \"Do NOT include any external information. Base your answer entirely on the context given below.\"\n",
    "    ),\n",
    ")"
   ]
  },
  {
   "cell_type": "markdown",
   "metadata": {},
   "source": [
    "## Query Processing with RAG\n",
    "\n",
    "We define the `ask_rag` function to send the query to the assistant, process the response, and evaluate it. This function handles the interaction with the assistant and uses the evaluator to measure the quality of the response."
   ]
  },
  {
   "cell_type": "code",
   "execution_count": 8,
   "metadata": {},
   "outputs": [],
   "source": [
    "async def ask_rag_agent(query: str, context_provider: ContextProvider, location: str = None):\n",
    "    \"\"\"\n",
    "    Sends a query to the assistant agent with context from the provider.\n",
    "    \n",
    "    Args:\n",
    "        query: The user's question\n",
    "        context_provider: The context provider instance\n",
    "        location: Optional location for weather queries\n",
    "    \"\"\"\n",
    "    try:\n",
    "        # Get unified context\n",
    "        context = context_provider.get_unified_context(query, location)\n",
    "        \n",
    "        # Augment the query with context\n",
    "        augmented_query = (\n",
    "            f\"{context}\\n\\n\"\n",
    "            f\"User Query: {query}\\n\\n\"\n",
    "            \"Based ONLY on the above context, please provide a helpful answer.\"\n",
    "        )\n",
    "\n",
    "        # Send the augmented query to the assistant\n",
    "        start_time = time.time()\n",
    "        response = await assistant.on_messages(\n",
    "            [TextMessage(content=augmented_query, source=\"user\")],\n",
    "            cancellation_token=CancellationToken(),\n",
    "        )\n",
    "        processing_time = time.time() - start_time\n",
    "        \n",
    "        return {\n",
    "            'query': query,\n",
    "            'response': response.chat_message.content,\n",
    "            'processing_time': processing_time,\n",
    "            'location': location\n",
    "        }\n",
    "    except Exception as e:\n",
    "        print(f\"Error processing query: {e}\")\n",
    "        return None"
   ]
  },
  {
   "cell_type": "markdown",
   "metadata": {},
   "source": [
    "# Example usage\n",
    "\n",
    "We initialize the evaluator and define the queries that we want to process and evaluate."
   ]
  },
  {
   "cell_type": "code",
   "execution_count": null,
   "metadata": {},
   "outputs": [],
   "source": [
    "async def main():\n",
    "    # Initialize context provider\n",
    "    context_provider = ContextProvider(collection)\n",
    "    \n",
    "    # Example queries\n",
    "    queries = [\n",
    "        {\"query\": \"What does Contoso's travel insurance cover?\"},\n",
    "        {\"query\": \"What's the weather like in London?\", \"location\": \"london\"},\n",
    "        {\"query\": \"What luxury destinations does Contoso offer and what's the weather in Paris?\", \"location\": \"paris\"},\n",
    "    ]\n",
    "    \n",
    "    print(\"=== Autogen RAG Demo ===\")\n",
    "    for query_data in queries:\n",
    "        query = query_data[\"query\"]\n",
    "        location = query_data.get(\"location\")\n",
    "        \n",
    "        print(f\"\\n\\nQuery: {query}\")\n",
    "        if location:\n",
    "            print(f\"Location: {location}\")\n",
    "        \n",
    "        # Show the context being used\n",
    "        context = context_provider.get_unified_context(query, location)\n",
    "        print(\"\\n--- Context Used ---\")\n",
    "        print(context)\n",
    "        print(\"-------------------\")\n",
    "        \n",
    "        # Get response from the agent\n",
    "        result = await ask_rag_agent(query, context_provider, location)\n",
    "        if result:\n",
    "            print(f\"\\nResponse: {result['response']}\")\n",
    "        print(\"\\n\" + \"=\"*50)"
   ]
  },
  {
   "cell_type": "markdown",
   "metadata": {},
   "source": [
    "## Run the Script\n",
    "\n",
    "We check if the script is running in an interactive environment or a standard script, and run the main function accordingly."
   ]
  },
  {
   "cell_type": "code",
   "execution_count": 12,
   "metadata": {},
   "outputs": [
    {
     "name": "stdout",
     "output_type": "stream",
     "text": [
      "=== Autogen RAG Demo ===\n",
      "\n",
      "\n",
      "Query: What does Contoso's travel insurance cover?\n",
      "\n",
      "--- Context Used ---\n",
      "Retrieved Context:\n",
      "Document: Contoso's travel insurance covers medical emergencies, trip cancellations, and lost baggage.\n",
      "Metadata: {'source': 'training', 'type': 'explanation'}\n",
      "\n",
      "Document: Contoso Travel offers luxury vacation packages to exotic destinations worldwide.\n",
      "Metadata: {'source': 'training', 'type': 'explanation'}\n",
      "\n",
      "\n",
      "-------------------\n",
      "\n",
      "Response: Contoso's travel insurance covers medical emergencies, trip cancellations, and lost baggage.\n",
      "\n",
      "==================================================\n",
      "\n",
      "\n",
      "Query: What's the weather like in London?\n",
      "Location: london\n",
      "\n",
      "--- Context Used ---\n",
      "Retrieved Context:\n",
      "Document: Popular destinations include the Maldives, Swiss Alps, and African safaris.\n",
      "Metadata: {'source': 'training', 'type': 'explanation'}\n",
      "\n",
      "Document: Contoso Travel offers luxury vacation packages to exotic destinations worldwide.\n",
      "Metadata: {'source': 'training', 'type': 'explanation'}\n",
      "\n",
      "\n",
      "Weather Information for london:\n",
      "Weather for London:\n",
      "Temperature: 60°F\n",
      "Condition: Rainy\n",
      "Humidity: 80%\n",
      "Wind: 15 mph\n",
      "-------------------\n",
      "\n",
      "Response: The weather in London is rainy with a temperature of 60°F, 80% humidity, and winds at 15 mph.\n",
      "\n",
      "==================================================\n",
      "\n",
      "\n",
      "Query: What luxury destinations does Contoso offer and what's the weather in Paris?\n",
      "Location: paris\n",
      "\n",
      "--- Context Used ---\n",
      "Retrieved Context:\n",
      "Document: Contoso Travel offers luxury vacation packages to exotic destinations worldwide.\n",
      "Metadata: {'source': 'training', 'type': 'explanation'}\n",
      "\n",
      "Document: Contoso Travel provides exclusive access to boutique hotels and private guided tours.\n",
      "Metadata: {'source': 'training', 'type': 'explanation'}\n",
      "\n",
      "\n",
      "Weather Information for paris:\n",
      "Weather for Paris:\n",
      "Temperature: 68°F\n",
      "Condition: Cloudy\n",
      "Humidity: 70%\n",
      "Wind: 8 mph\n",
      "-------------------\n",
      "\n",
      "Response: Contoso Travel offers luxury vacation packages to exotic destinations worldwide and provides exclusive access to boutique hotels and private guided tours. The weather in Paris is cloudy with a temperature of 68°F, 70% humidity, and winds at 8 mph.\n",
      "\n",
      "==================================================\n"
     ]
    }
   ],
   "source": [
    "if __name__ == \"__main__\":\n",
    "    if asyncio.get_event_loop().is_running():\n",
    "        await main()\n",
    "    else:\n",
    "        asyncio.run(main())"
   ]
  }
 ],
 "metadata": {
  "kernelspec": {
   "display_name": "Python 3",
   "language": "python",
   "name": "python3"
  },
  "language_info": {
   "codemirror_mode": {
    "name": "ipython",
    "version": 3
   },
   "file_extension": ".py",
   "mimetype": "text/x-python",
   "name": "python",
   "nbconvert_exporter": "python",
   "pygments_lexer": "ipython3",
   "version": "3.12.9"
  }
 },
 "nbformat": 4,
 "nbformat_minor": 2
}
